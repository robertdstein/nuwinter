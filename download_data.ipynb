{
 "cells": [
  {
   "cell_type": "code",
   "execution_count": 1,
   "id": "c1f2e003",
   "metadata": {},
   "outputs": [],
   "source": [
    "%matplotlib inline\n",
    "import logging\n",
    "import numpy as np\n",
    "from matplotlib import pyplot as plt\n",
    "import pandas as pd\n",
    "import numpy as np\n",
    "from nuwinter.neutrino import schedule_neutrino, parse_neutrino\n",
    "from wintertoo.validate import validate_schedule_request\n",
    "from winterapi import WinterAPI\n",
    "from pathlib import Path"
   ]
  },
  {
   "cell_type": "code",
   "execution_count": 2,
   "id": "514b9aa9",
   "metadata": {},
   "outputs": [],
   "source": [
    "logging.getLogger(\"nuwinter\").setLevel(\"INFO\")"
   ]
  },
  {
   "cell_type": "code",
   "execution_count": 3,
   "id": "3d298cb7",
   "metadata": {},
   "outputs": [],
   "source": [
    "winter = WinterAPI()"
   ]
  },
  {
   "cell_type": "code",
   "execution_count": 10,
   "id": "164132a3",
   "metadata": {},
   "outputs": [],
   "source": [
    "# Program details\n",
    "program = \"2023A001\"\n",
    "start_date = \"20240422\""
   ]
  },
  {
   "cell_type": "code",
   "execution_count": 11,
   "id": "d48dc938-81cd-4612-90a5-460de263f23d",
   "metadata": {},
   "outputs": [
    {
     "name": "stdout",
     "output_type": "stream",
     "text": [
      "available programs: ['2023A000', '2023A001', '2023A002', '2023A004', '2023A010', '2023A012', '2023A999', '2024A000', '2024A001', '2024A002', '2024A006'], program 2023A001 is available\n"
     ]
    }
   ],
   "source": [
    "print(f\"available programs: {winter.get_programs()}, program {program} is available\")"
   ]
  },
  {
   "cell_type": "code",
   "execution_count": 12,
   "id": "6124d5a2",
   "metadata": {},
   "outputs": [
    {
     "name": "stdout",
     "output_type": "stream",
     "text": [
      "Querying images for 2023A001 between 20240422 and 20240423 of type 'exposure'\n",
      "Request passed validation! Found 0 images.\n"
     ]
    },
    {
     "data": {
      "text/html": [
       "<div>\n",
       "<style scoped>\n",
       "    .dataframe tbody tr th:only-of-type {\n",
       "        vertical-align: middle;\n",
       "    }\n",
       "\n",
       "    .dataframe tbody tr th {\n",
       "        vertical-align: top;\n",
       "    }\n",
       "\n",
       "    .dataframe thead th {\n",
       "        text-align: right;\n",
       "    }\n",
       "</style>\n",
       "<table border=\"1\" class=\"dataframe\">\n",
       "  <thead>\n",
       "    <tr style=\"text-align: right;\">\n",
       "      <th></th>\n",
       "      <th>progname</th>\n",
       "      <th>nightdate</th>\n",
       "      <th>targname</th>\n",
       "      <th>ra</th>\n",
       "      <th>dec</th>\n",
       "      <th>fid</th>\n",
       "      <th>utctime</th>\n",
       "      <th>fieldid</th>\n",
       "      <th>image_type</th>\n",
       "      <th>savepath</th>\n",
       "      <th>lastmodified</th>\n",
       "      <th>pipeversion</th>\n",
       "    </tr>\n",
       "  </thead>\n",
       "  <tbody>\n",
       "  </tbody>\n",
       "</table>\n",
       "</div>"
      ],
      "text/plain": [
       "Empty DataFrame\n",
       "Columns: [progname, nightdate, targname, ra, dec, fid, utctime, fieldid, image_type, savepath, lastmodified, pipeversion]\n",
       "Index: []"
      ]
     },
     "execution_count": 12,
     "metadata": {},
     "output_type": "execute_result"
    }
   ],
   "source": [
    "res, exposures = winter.query_images_by_program(program, start_date=start_date, image_type=\"exposure\")\n",
    "print(res.json()[\"msg\"])\n",
    "exposures"
   ]
  },
  {
   "cell_type": "code",
   "execution_count": 13,
   "id": "951f4f0b-76e9-4ae1-b3d3-3042ec1cf453",
   "metadata": {},
   "outputs": [
    {
     "ename": "IndexError",
     "evalue": "list index out of range",
     "output_type": "error",
     "traceback": [
      "\u001b[0;31m---------------------------------------------------------------------------\u001b[0m",
      "\u001b[0;31mIndexError\u001b[0m                                Traceback (most recent call last)",
      "Cell \u001b[0;32mIn[13], line 1\u001b[0m\n\u001b[0;32m----> 1\u001b[0m \u001b[38;5;28;43msorted\u001b[39;49m\u001b[43m(\u001b[49m\u001b[43mexposures\u001b[49m\u001b[43m[\u001b[49m\u001b[38;5;124;43m\"\u001b[39;49m\u001b[38;5;124;43msavepath\u001b[39;49m\u001b[38;5;124;43m\"\u001b[39;49m\u001b[43m]\u001b[49m\u001b[43m)\u001b[49m\u001b[43m[\u001b[49m\u001b[38;5;241;43m0\u001b[39;49m\u001b[43m]\u001b[49m\n",
      "\u001b[0;31mIndexError\u001b[0m: list index out of range"
     ]
    }
   ],
   "source": [
    "# sorted(exposures[\"savepath\"])[0]"
   ]
  },
  {
   "cell_type": "code",
   "execution_count": null,
   "id": "27e0560d",
   "metadata": {},
   "outputs": [],
   "source": [
    "res, images = winter.query_images_by_program(program, start_date=start_date, image_type=\"diff\")\n",
    "print(res.json()[\"msg\"])\n",
    "images"
   ]
  },
  {
   "cell_type": "code",
   "execution_count": null,
   "id": "68550135",
   "metadata": {},
   "outputs": [],
   "source": [
    "res, alerts = winter.query_images_by_program(program, start_date=start_date, image_type=\"avro\")\n",
    "print(res.json()[\"msg\"])\n",
    "alerts"
   ]
  },
  {
   "cell_type": "code",
   "execution_count": null,
   "id": "ae208277",
   "metadata": {},
   "outputs": [],
   "source": [
    "savepaths = alerts[\"savepath\"].tolist()\n",
    "savepaths"
   ]
  },
  {
   "cell_type": "code",
   "execution_count": null,
   "id": "00878f31",
   "metadata": {},
   "outputs": [],
   "source": [
    "res, output_path = winter.download_image_list(program_name=program, image_type=\"avro\", paths=savepaths)\n",
    "print(f\"Saved images to {output_path}\")\n",
    "print(res.headers)\n",
    "res.raise_for_status()"
   ]
  },
  {
   "cell_type": "code",
   "execution_count": null,
   "id": "dc9d4ae9",
   "metadata": {},
   "outputs": [],
   "source": []
  },
  {
   "cell_type": "code",
   "execution_count": null,
   "id": "28aef595",
   "metadata": {},
   "outputs": [],
   "source": [
    "# path = \"/Users/robertstein/Data/20240327_error_stack.tsv\""
   ]
  },
  {
   "cell_type": "code",
   "execution_count": null,
   "id": "8bcccb2e",
   "metadata": {},
   "outputs": [],
   "source": [
    "# df = pd.read_csv(path, sep='\\t', header=0)\n",
    "# df"
   ]
  },
  {
   "cell_type": "code",
   "execution_count": null,
   "id": "3835b1fd",
   "metadata": {},
   "outputs": [],
   "source": [
    "# paths = exposures[\"savepath\"]"
   ]
  },
  {
   "cell_type": "code",
   "execution_count": null,
   "id": "ab338a48",
   "metadata": {},
   "outputs": [],
   "source": [
    "# stems = [Path(x).name.split(\"mef\")[0] for x in paths]\n",
    "# mask = [Path(x).name.split(\"mef\")[0] in stems for x in df[\"image_paths\"]]\n",
    "# df[mask]"
   ]
  },
  {
   "cell_type": "code",
   "execution_count": null,
   "id": "58a67eab",
   "metadata": {},
   "outputs": [],
   "source": []
  }
 ],
 "metadata": {
  "kernelspec": {
   "display_name": "nuwinter_env",
   "language": "python",
   "name": "nuwinter_env"
  },
  "language_info": {
   "codemirror_mode": {
    "name": "ipython",
    "version": 3
   },
   "file_extension": ".py",
   "mimetype": "text/x-python",
   "name": "python",
   "nbconvert_exporter": "python",
   "pygments_lexer": "ipython3",
   "version": "3.11.8"
  }
 },
 "nbformat": 4,
 "nbformat_minor": 5
}
