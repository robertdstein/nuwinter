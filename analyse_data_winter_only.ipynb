{
 "cells": [
  {
   "cell_type": "code",
   "execution_count": 1,
   "id": "b5fa3d7b",
   "metadata": {
    "scrolled": true
   },
   "outputs": [
    {
     "name": "stderr",
     "output_type": "stream",
     "text": [
      "\n",
      "WARNING: version mismatch between CFITSIO header (v40300) and linked library (v40400).\n",
      "\n",
      "\n",
      "WARNING: version mismatch between CFITSIO header (v40300) and linked library (v40400).\n",
      "\n",
      "\n",
      "WARNING: version mismatch between CFITSIO header (v40300) and linked library (v40400).\n",
      "\n",
      "WARNING:nuwinter.paths:No .env file found in /Users/robertstein/Code/nuwinter/nuwinter. Make sure to set the environment variables manually.\n",
      "/Users/robertstein/anaconda3/envs/nuwinter_env/lib/python3.11/site-packages/ligo/lw/lsctables.py:89: UserWarning: Wswiglal-redir-stdio:\n",
      "\n",
      "SWIGLAL standard output/error redirection is enabled in IPython.\n",
      "This may lead to performance penalties. To disable locally, use:\n",
      "\n",
      "with lal.no_swig_redirect_standard_output_error():\n",
      "    ...\n",
      "\n",
      "To disable globally, use:\n",
      "\n",
      "lal.swig_redirect_standard_output_error(False)\n",
      "\n",
      "Note however that this will likely lead to error messages from\n",
      "LAL functions being either misdirected or lost when called from\n",
      "Jupyter notebooks.\n",
      "\n",
      "To suppress this warning, use:\n",
      "\n",
      "import warnings\n",
      "warnings.filterwarnings(\"ignore\", \"Wswiglal-redir-stdio\")\n",
      "import lal\n",
      "\n",
      "  import lal\n"
     ]
    }
   ],
   "source": [
    "%matplotlib inline\n",
    "import matplotlib.pyplot as plt\n",
    "from nuztf.neutrino_scanner import NeutrinoScanner\n",
    "from astropy import units as u\n",
    "from nuwinter.avro import load_avro\n",
    "from nuwinter.plot import ann_fields, generate_single_page\n",
    "from nuwinter.utils import deduplicate_df\n",
    "from nuwinter.paths import get_pdf_path\n",
    "from pathlib import Path\n",
    "import pandas as pd\n",
    "import json\n",
    "from astropy import units as u\n",
    "from astropy.coordinates import SkyCoord\n",
    "from matplotlib.colors import Normalize\n",
    "from matplotlib.ticker import MultipleLocator\n",
    "from matplotlib.backends.backend_pdf import PdfPages\n",
    "import numpy as np\n",
    "from tqdm import tqdm\n",
    "from nuztf.skymap_scanner import SkymapScanner"
   ]
  },
  {
   "cell_type": "code",
   "execution_count": 2,
   "id": "9ead1eff",
   "metadata": {},
   "outputs": [],
   "source": [
    "base_dir = Path.home().joinpath(\"Data/winter\")\n",
    "\n",
    "# name = \"IC240412A\"\n",
    "\n",
    "name = \"S250119cv\"\n",
    "# name=\"IC241006A\"\n",
    "\n",
    "prob_threshold = 0.95\n",
    "n_days = 7"
   ]
  },
  {
   "cell_type": "code",
   "execution_count": 3,
   "id": "3a012ff9-88d0-4bc6-af98-1d7aefdf8595",
   "metadata": {},
   "outputs": [
    {
     "data": {
      "text/plain": [
       "'/Users/robertstein/Data/nuwinter/S250119cv/winter_candidate_pdf/combined.pdf'"
      ]
     },
     "execution_count": 3,
     "metadata": {},
     "output_type": "execute_result"
    }
   ],
   "source": [
    "outpath = str(get_pdf_path(name))#.replace(\"combined\", \"combined_ztf\")\n",
    "outpath"
   ]
  },
  {
   "cell_type": "code",
   "execution_count": 4,
   "id": "cb47d438",
   "metadata": {},
   "outputs": [
    {
     "name": "stderr",
     "output_type": "stream",
     "text": [
      "100%|██████████████████████████████| 196608/196608 [00:00<00:00, 9072476.96it/s]\n",
      "100%|███████████████████████████████████████| 19/19 [00:00<00:00, 179082.64it/s]\n",
      "WARNING: TimeDeltaMissingUnitWarning: Numerical value without unit or explicit format passed to TimeDelta, assuming days [astropy.time.core]\n",
      "WARNING:astroquery:TimeDeltaMissingUnitWarning: Numerical value without unit or explicit format passed to TimeDelta, assuming days\n"
     ]
    }
   ],
   "source": [
    "nu = NeutrinoScanner(name) if \"IC\" in name else SkymapScanner(\n",
    "    event=name,\n",
    "    prob_threshold=prob_threshold,\n",
    "    n_days=n_days\n",
    ")"
   ]
  },
  {
   "cell_type": "code",
   "execution_count": 5,
   "id": "e37bb1b8",
   "metadata": {},
   "outputs": [
    {
     "name": "stdout",
     "output_type": "stream",
     "text": [
      "Looking for avros in /Users/robertstein/Data/winter/20250118/avro\n",
      "Looking for avros in /Users/robertstein/Data/winter/20250119/avro\n",
      "Looking for avros in /Users/robertstein/Data/winter/20250120/avro\n",
      "Looking for avros in /Users/robertstein/Data/winter/20250121/avro\n",
      "Looking for avros in /Users/robertstein/Data/winter/20250122/avro\n",
      "Looking for avros in /Users/robertstein/Data/winter/20250123/avro\n",
      "Looking for avros in /Users/robertstein/Data/winter/20250124/avro\n",
      "Looking for avros in /Users/robertstein/Data/winter/20250125/avro\n"
     ]
    },
    {
     "ename": "FileNotFoundError",
     "evalue": "No avro files found for any night, please download these first using the download notebook!",
     "output_type": "error",
     "traceback": [
      "\u001b[0;31m---------------------------------------------------------------------------\u001b[0m",
      "\u001b[0;31mFileNotFoundError\u001b[0m                         Traceback (most recent call last)",
      "Cell \u001b[0;32mIn[5], line 17\u001b[0m\n\u001b[1;32m     14\u001b[0m         all_res\u001b[38;5;241m.\u001b[39mappend(load_avro(path))\n\u001b[1;32m     16\u001b[0m \u001b[38;5;28;01mif\u001b[39;00m \u001b[38;5;28mlen\u001b[39m(all_res) \u001b[38;5;241m==\u001b[39m \u001b[38;5;241m0\u001b[39m:\n\u001b[0;32m---> 17\u001b[0m     \u001b[38;5;28;01mraise\u001b[39;00m \u001b[38;5;167;01mFileNotFoundError\u001b[39;00m(\u001b[38;5;124mf\u001b[39m\u001b[38;5;124m\"\u001b[39m\u001b[38;5;124mNo avro files found for any night, please download these first using the download notebook!\u001b[39m\u001b[38;5;124m\"\u001b[39m)\n\u001b[1;32m     19\u001b[0m res_winter \u001b[38;5;241m=\u001b[39m pd\u001b[38;5;241m.\u001b[39mconcat(all_res)\n",
      "\u001b[0;31mFileNotFoundError\u001b[0m: No avro files found for any night, please download these first using the download notebook!"
     ]
    }
   ],
   "source": [
    "nights = [str(nu.t_min + (i - 1) * u.day).split(\"T\")[0].replace(\"-\", \"\") for i in range(n_days + 1)]\n",
    "\n",
    "all_res = []\n",
    "\n",
    "for night in sorted(nights):\n",
    "    \n",
    "    avro_dir = base_dir / f\"{night}/avro\"\n",
    "\n",
    "    print(f\"Looking for avros in {avro_dir}\")\n",
    "    \n",
    "    avro_files = list(avro_dir.glob(\"*.avro\"))\n",
    "    \n",
    "    for path in avro_files:\n",
    "        all_res.append(load_avro(path))\n",
    "\n",
    "if len(all_res) == 0:\n",
    "    raise FileNotFoundError(f\"No avro files found for any night, please download these first using the download notebook!\")\n",
    "\n",
    "res_winter = pd.concat(all_res)"
   ]
  },
  {
   "cell_type": "code",
   "execution_count": null,
   "id": "c236019e-384a-408f-b29c-0209b8da267b",
   "metadata": {},
   "outputs": [],
   "source": [
    "plt.hist(res_winter[\"dec\"])"
   ]
  },
  {
   "cell_type": "code",
   "execution_count": null,
   "id": "68403920-ddef-413a-b25d-b64fca4ab6b2",
   "metadata": {},
   "outputs": [],
   "source": [
    "in_contour = []\n",
    "\n",
    "for _, row in res_winter.iterrows():\n",
    "    in_contour.append(nu.in_contour(row[\"ra\"], row[\"dec\"]))\n",
    "\n",
    "print(f\"{np.sum(in_contour)} / {len(in_contour)} candidates in contour\")\n",
    "\n",
    "res_winter = res_winter[in_contour]"
   ]
  },
  {
   "cell_type": "code",
   "execution_count": null,
   "id": "9da5c99b-890d-4eab-bb76-bac479150a05",
   "metadata": {},
   "outputs": [],
   "source": [
    "# plt.hist(res_winter[~np.array(in_contour)][\"dec\"])"
   ]
  },
  {
   "cell_type": "code",
   "execution_count": null,
   "id": "3b3913d4",
   "metadata": {},
   "outputs": [],
   "source": [
    "res_winter"
   ]
  },
  {
   "cell_type": "code",
   "execution_count": null,
   "id": "c4c3351e-00d5-459e-954a-5972b1fc31cc",
   "metadata": {},
   "outputs": [],
   "source": [
    "len(res_winter[\"objectid\"])"
   ]
  },
  {
   "cell_type": "code",
   "execution_count": null,
   "id": "92b8e5e5-b3c6-4111-a609-65c8a3aa59cc",
   "metadata": {},
   "outputs": [],
   "source": [
    "# res_winter[\"match\"] = match\n",
    "# res_winter_match = res_winter[pd.notnull(match)]\n",
    "res_winter_match = res_winter"
   ]
  },
  {
   "cell_type": "code",
   "execution_count": null,
   "id": "e3c57bdf-70bb-4c93-a830-efbe0effb11b",
   "metadata": {},
   "outputs": [],
   "source": [
    "sgscore_cut = 0.7\n",
    "dist_cut_arcsec = 3.\n",
    "\n",
    "star_cut = (pd.notnull(res_winter_match[\"distpsnr1\"]) & (res_winter_match[\"distpsnr1\"] < dist_cut_arcsec) & pd.notnull(res_winter_match[\"sgscore1\"]) & (res_winter_match[\"sgscore1\"] > sgscore_cut))\n",
    "\n",
    "# masks = [\n",
    "#     res_winter_match[\"ndethist\"] > 0,\n",
    "#     ~star_cut,\n",
    "#     res_winter_match[\"nbad\"] < 2,\n",
    "#     # res_winter_match[\"chipsf\"] < 3.0,\n",
    "#     # res_winter_match[\"sumrat\"] > 0.7,\n",
    "#     res_winter_match[\"fwhm\"] < 10.0,\n",
    "#     # res_winter_match[\"magdiff\"] < 1.6,\n",
    "#     # res_winter_match[\"magdiff\"] > -1.0,\n",
    "#     res_winter_match[\"mindtoedge\"] > 100.0,\n",
    "#     res_winter_match[\"isdiffpos\"],\n",
    "# ]\n",
    "\n",
    "masks = [\n",
    "    res_winter_match[\"ndethist\"] > 0,\n",
    "    ~star_cut,\n",
    "    res_winter_match[\"nbad\"] < 2,\n",
    "    res_winter_match[\"chipsf\"] < 3.0,\n",
    "    res_winter_match[\"sumrat\"] > 0.7,\n",
    "    res_winter_match[\"fwhm\"] < 10.0,\n",
    "    res_winter_match[\"magdiff\"] < 1.6,\n",
    "    res_winter_match[\"magdiff\"] > -1.0,\n",
    "    res_winter_match[\"mindtoedge\"] > 100.0,\n",
    "    res_winter_match[\"isdiffpos\"],\n",
    "]\n",
    "\n",
    "mask = np.ones(len(res_winter_match), dtype=bool)\n",
    "for new_mask in masks:\n",
    "    mask *= new_mask\n",
    "    \n",
    "print(f\"{np.sum(mask)} / {len(mask)} detections pass all cuts\")\n",
    "cut2 = res_winter_match[mask]\n",
    "\n",
    "if len(cut2) > 0:\n",
    "    cut2 = deduplicate_df(cut2)\n",
    "    cut2.sort_values(by=\"objectid\", inplace=True)\n",
    "    \n",
    "    outpath = str(get_pdf_path(name)).replace(\"combined\", \"single\")\n",
    "    print(f\"Saving PDF to {outpath}\")\n",
    "    \n",
    "    with PdfPages(outpath) as pdf:\n",
    "        for i, row in tqdm(cut2.iterrows(), total=len(cut2)):\n",
    "            generate_single_page(row, ann_fields=ann_fields, crossmatch=False)\n",
    "            pdf.savefig()\n",
    "            plt.close()"
   ]
  },
  {
   "cell_type": "code",
   "execution_count": null,
   "id": "e28d9d57-10ec-42a7-add3-a00f1d0c64da",
   "metadata": {},
   "outputs": [],
   "source": [
    "list(res_winter_match.columns)"
   ]
  },
  {
   "cell_type": "code",
   "execution_count": null,
   "id": "a54ab965-a5e8-4948-b018-5eb52ef4a49b",
   "metadata": {},
   "outputs": [],
   "source": []
  }
 ],
 "metadata": {
  "kernelspec": {
   "display_name": "nuwinter_env",
   "language": "python",
   "name": "nuwinter_env"
  },
  "language_info": {
   "codemirror_mode": {
    "name": "ipython",
    "version": 3
   },
   "file_extension": ".py",
   "mimetype": "text/x-python",
   "name": "python",
   "nbconvert_exporter": "python",
   "pygments_lexer": "ipython3",
   "version": "3.11.8"
  }
 },
 "nbformat": 4,
 "nbformat_minor": 5
}
